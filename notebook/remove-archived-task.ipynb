{
 "cells": [
  {
   "cell_type": "code",
   "execution_count": null,
   "id": "dbddb42a",
   "metadata": {},
   "outputs": [],
   "source": [
    "from clearml import Task\n",
    "\n",
    "# Get all archived tasks\n",
    "archived_tasks = Task.get_tasks(\n",
    "    tags=[\"test\"]\n",
    "    \n",
    ")\n",
    "\n",
    "for task in archived_tasks:\n",
    "    if task.get_archived():\n",
    "        print(\"we are processing task\",task.id)\n",
    "        task.delete()\n",
    "        print(\"we archived the task\",task.id)\n"
   ]
  }
 ],
 "metadata": {
  "language_info": {
   "name": "python"
  }
 },
 "nbformat": 4,
 "nbformat_minor": 5
}
